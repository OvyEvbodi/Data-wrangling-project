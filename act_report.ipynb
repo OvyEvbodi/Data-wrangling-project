{
 "cells": [
  {
   "cell_type": "markdown",
   "id": "f8676cb0",
   "metadata": {},
   "source": [
    "# \"WeRateDogs\" ACT REPORT"
   ]
  },
  {
   "cell_type": "markdown",
   "id": "e7e057f1",
   "metadata": {},
   "source": [
    "<a href='#introduction'> - Introduction </a><br>\n",
    "<a href='#most common'> - 10 most common dog breeds</a><br>\n",
    "<a href='#highest_retweet'> - Dog stage with the highest numbers of likes and retweets</a><br>\n",
    "<a href='#truly_dogs'> - How many dog predictions were truly dogs based on the machine learning model used by WeRateDogs</a>"
   ]
  },
  {
   "cell_type": "markdown",
   "id": "d448d1d1",
   "metadata": {},
   "source": [
    "## Introduction\n",
    "<a id='introduction'></a>"
   ]
  },
  {
   "cell_type": "markdown",
   "id": "474aab67",
   "metadata": {},
   "source": [
    "[\"WeRateDogs\"](https://twitter.com/dog_rates) is a Twitter page that rates cute animals, mostly dogs, on Twitter. They post, and repost, thousands of cute dogs on their page, and rate them using a very [unique rating system](https://knowyourmeme.com/memes/theyre-good-dogs-brent) that has gotten them millions of followers over the years, now with over 4 million followers, they have gained international recognition."
   ]
  },
  {
   "cell_type": "markdown",
   "id": "db9354c9",
   "metadata": {},
   "source": [
    "I carried out a simple analysis of some of their tweets from 2015 to 2017 to generate some insights and share them here. In this report, I'll be communicating the 3 insights that I produced, which are listed below:\n",
    "- 10 most common dog breeds\n",
    "\n",
    "- Which dog stage had the highest numbers of likes and retweets\n",
    "\n",
    "- How many dog predictions were truly dogs based on a machine learning model"
   ]
  },
  {
   "cell_type": "markdown",
   "id": "4e9052f1",
   "metadata": {},
   "source": [
    "### 10 most common dog breeds\n",
    "<a id='most common'></a>"
   ]
  },
  {
   "cell_type": "markdown",
   "id": "0b7f6882",
   "metadata": {},
   "source": [
    "The [\"WeRateDogs\"](https://twitter.com/dog_rates) page features hundreds of dog breeds in their posts, but we all know they do not own the dogs that they post and rate. With this insight, I wanted to find out the 10 most common dogs that get featured on their Twitter page. Luckily for me, I worked with an image predictions dataset that made my analysis a whole lot easier. The dataset provided me with the breed predictions of each dog post, which facilitated the extraction of the 10 most common dog breeds on their twitter page as at August 1st, 2017."
   ]
  },
  {
   "cell_type": "markdown",
   "id": "2972a18e",
   "metadata": {},
   "source": [
    "In descending order, they were:\n",
    "1. Golden Retriever\n",
    "2. Labrador Retriever\n",
    "3. Pembroke\n",
    "4. Chihuahua\n",
    "5. Pug\n",
    "6. Pomranian\n",
    "7. Samoyed\n",
    "8. Chow\n",
    "9. Toy Poodle\n",
    "10. Cocker Spaniel    \n"
   ]
  },
  {
   "cell_type": "markdown",
   "id": "499d4042",
   "metadata": {},
   "source": [
    "### Which dog stage had the highest numbers of likes and retweets\n",
    "<a id='highest_retweet'></a>"
   ]
  },
  {
   "cell_type": "markdown",
   "id": "c12446c1",
   "metadata": {},
   "source": [
    "The pictures of the dogs on the [\"WeRateDogs\"](https://twitter.com/dog_rates) page are from different stages in the dog life cycle. With this insight, I wanted to find out the relationship between the different dog stages and the numbers of likes and retweets that posts of dogs in each stage get. To shed some light on the different stages, below is a mini doctionary explaining the four stages that I worked with:\n",
    "- Pupper - A younger dog\n",
    "- Doggo - An older dog\n",
    "- Puppo - A dog in between the pupper and doggo phase \n",
    "- Floofer - Any dog really, but usually a furry buddy"
   ]
  },
  {
   "cell_type": "markdown",
   "id": "d369aedf",
   "metadata": {},
   "source": [
    "I got the means of the retweet and like counts for all the dog stages posted between 2015 and 2017, and came to a conclusion that posts of dogs in the puppo stage had more likes and retweets compared to posts of dogs in other stages. "
   ]
  },
  {
   "cell_type": "markdown",
   "id": "3ab5c86e",
   "metadata": {},
   "source": [
    "Below are the means of likes and retweets respectively, for each dog stage.\n",
    "- Doggo - 16,772 and 5,625\n",
    "- Floofer - 16,772 and 3,839\n",
    "- Pupper - 6,252 and 1,911 \n",
    "- Puppo - 20,553 and 5,798"
   ]
  },
  {
   "cell_type": "markdown",
   "id": "dd19439a",
   "metadata": {},
   "source": [
    "A visual representation of relationship between the dog stage and the number of retweets is shown in the figure below"
   ]
  },
  {
   "cell_type": "markdown",
   "id": "baa4f159",
   "metadata": {},
   "source": [
    "<img src='wrangling_visuals.png'>"
   ]
  },
  {
   "cell_type": "markdown",
   "id": "2f01e210",
   "metadata": {},
   "source": [
    "### How many dog predictions were truly dogs based on the machine learning model used\n",
    "<a id='truly_dogs'></a>"
   ]
  },
  {
   "cell_type": "markdown",
   "id": "8bceae57",
   "metadata": {},
   "source": [
    "Most of their posts are dog posts, or I would think that at least 90% of them are, considering that their user name literlly has the word \"dog\" in it. With this final insight, I wanted to find out the percentage of their posts as at August 1st, 2017, that was about dogs. The machine learning model dataset that I worked with already had a section that stated whether the predictions were dog predictions or not. I calculated the percentage of dog posts using the number of dog predictions, dividing it by the total number of posts that I worked with, and multiplying the result by 100. I could infer that based on the data that I worked with, about 84.47% of their posts were dog posts. So close to my guess!"
   ]
  },
  {
   "cell_type": "markdown",
   "id": "7f62fe67",
   "metadata": {},
   "source": [
    "Those were the insights I produced from working with the Twitter archives, Twitter API and image predictions datasets of [\"WeRateDogs\"](https://twitter.com/dog_rates)."
   ]
  },
  {
   "cell_type": "code",
   "execution_count": null,
   "id": "099d0cc1",
   "metadata": {},
   "outputs": [],
   "source": []
  }
 ],
 "metadata": {
  "kernelspec": {
   "display_name": "Python [conda env:alx_env] *",
   "language": "python",
   "name": "conda-env-alx_env-py"
  },
  "language_info": {
   "codemirror_mode": {
    "name": "ipython",
    "version": 3
   },
   "file_extension": ".py",
   "mimetype": "text/x-python",
   "name": "python",
   "nbconvert_exporter": "python",
   "pygments_lexer": "ipython3",
   "version": "3.7.13"
  }
 },
 "nbformat": 4,
 "nbformat_minor": 5
}
