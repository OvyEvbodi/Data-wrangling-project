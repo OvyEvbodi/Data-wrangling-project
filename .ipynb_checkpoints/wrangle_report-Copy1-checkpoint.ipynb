{
 "cells": [
  {
   "cell_type": "markdown",
   "metadata": {},
   "source": [
    "## Reporting: wrangle_report\n"
   ]
  },
  {
   "cell_type": "markdown",
   "metadata": {},
   "source": [
    "### Gathering"
   ]
  },
  {
   "cell_type": "markdown",
   "metadata": {},
   "source": [
    "I downloaded the 'weRateDogs' twitter archives file from my classroom, and read it into a pandas DataFrame. I programmatically downloaded the image predictions using the get method of the 'requests' library, and saved the file into another pandas DataFrame. I queried the Twitter API to get the number of retweets and favourites for each tweet in the Twitter archives DataFrame using the Twitter id as the identifier, I then saved the results into a text file which I read into a third pandas DataFrame. <hr>"
   ]
  },
  {
   "cell_type": "markdown",
   "metadata": {},
   "source": [
    "### Assessing "
   ]
  },
  {
   "cell_type": "markdown",
   "metadata": {},
   "source": [
    "I visually and programmatically assessed all three DataFrames to spot any quality or tidiness issues. Visual assessment was done using Google spreadsheets, some of the issues that were discovered include:\n",
    "- Invalid ratings in the twitter_archives dataFrame.\n",
    "- Retweeted tweets in the twitter_archives DataFrame.\n",
    "- Irrelevant columns such as: 'source', 'expanded_urls', 'name', 'jpg_url', 'in_reply_to_status' and 'in_reply_to_user' in the twitter_archivesDataFrame.\n",
    "- Dog classification as 4 columns instead of 1.<br><br>\n",
    "Programmatical assessment was carried out by getting an overview of all 3 DataFrames and explorating the them using the pandas library: checking for basic quality issues such as erroneous datatypes, missing values, e.t.c As a result of my programmatic assessment, I discovered the following quality and tidiness issues:\n",
    "- Tweet_id should be a string.\n",
    "- Some tweets don't have image predictions.\n",
    "- Some tweet_ids weren't found using the Twitter API.\n",
    "- Erroneous datatype for the timestamp, retweet count, favorite count column e.t.c in the twitter_archives DataFrame.\n",
    "<hr>"
   ]
  },
  {
   "cell_type": "markdown",
   "metadata": {},
   "source": [
    "### Cleaning "
   ]
  },
  {
   "cell_type": "markdown",
   "metadata": {},
   "source": [
    "The first step in my data cleaning process was to create copies of the DataFrames, this was done to ensure that the original DataFrames were kept intact after all the data wrangling processes."
   ]
  },
  {
   "cell_type": "markdown",
   "metadata": {},
   "source": [
    "After creating copies of all 3 DataFrames, the next step was to ensure that every variable was a column. To achieve this, I used the the pandas 'melt' method to join the dog stages columns which were 4 in total. I named the new, single column 'dog_stages', but realised that the method of entry of the values was repetitive in the sense that each row had 4 different values for the dog stage, as opposed to having only one value and 3 null columns per record. To combat this issue, I coverted the 'none' string values to 'NaN' datatype which made the melt method efficient."
   ]
  },
  {
   "cell_type": "markdown",
   "metadata": {},
   "source": [
    "I then merged the DataFrames into 1 master Dataframe using the pandas 'merge' method to join them using the tweet id as the id\n",
    "entifier, as there was no need for them to be analysed as independent dataFrames. "
   ]
  },
  {
   "cell_type": "markdown",
   "metadata": {},
   "source": [
    "The correction of the datatypes of all the column was then done using the pandas 'info' method. The timestamp column datatype was change from object to datetime, and the p1_dog, p2_dog and p3_dog columns datatypes were changed from oblect to boolean, and the retweet count and favorite count columns were changed from object to integar datatype."
   ]
  },
  {
   "cell_type": "markdown",
   "metadata": {},
   "source": [
    "I queried the Dataframe to find and drop all retweeted enteries, leaving only original tweets to be used to draw any conclusions or insights. I also dropped all the rows that had missing values in the retweet and favourite coumns. Those rows had missing values because upon querying the twitter API, their tweet IDs weren't linked to any of the 'weRateDogs' tweets."
   ]
  },
  {
   "cell_type": "markdown",
   "metadata": {},
   "source": [
    "The next data wrangling step I took was to drop all the columns in the Twitter archives DataFrame that I deemed to be irrelevant, the following columns were dropped:\n",
    "- 'tweet_id'\n",
    "- 'in_reply_to_status_id'\n",
    "- 'in_reply_to_user_id'\n",
    "- 'timestamp'\n",
    "- 'source'\n",
    "- 'text'\n",
    "- 'retweeted_status_id'\n",
    "- 'retweeted_status_user_id'\n",
    "- 'retweeted_status_timestamp'\n",
    "- 'expanded_urls', 'rating_numerator'\n",
    "-  'rating_denominator'\n",
    "- 'name'"
   ]
  },
  {
   "cell_type": "markdown",
   "metadata": {},
   "source": [
    "I then checked for any duplicate values in the tweet id column and dropped all such duplicates.\n",
    "All the tweets that lacked predictions were also dropped.\n",
    "The tweet id column was converted to the object datatype because it is not a statistical variable, and hence shouldn't remain as an integar.\n",
    "<hr>"
   ]
  },
  {
   "cell_type": "markdown",
   "metadata": {},
   "source": [
    "### Storing"
   ]
  },
  {
   "cell_type": "markdown",
   "metadata": {},
   "source": [
    "After I was satisfied with the master DataFrame, I saved it as a csv file with the name 'twitter_archive_master.csv'"
   ]
  }
 ],
 "metadata": {
  "kernelspec": {
   "display_name": "Python 3 (ipykernel)",
   "language": "python",
   "name": "python3"
  },
  "language_info": {
   "codemirror_mode": {
    "name": "ipython",
    "version": 3
   },
   "file_extension": ".py",
   "mimetype": "text/x-python",
   "name": "python",
   "nbconvert_exporter": "python",
   "pygments_lexer": "ipython3",
   "version": "3.7.13"
  }
 },
 "nbformat": 4,
 "nbformat_minor": 2
}
